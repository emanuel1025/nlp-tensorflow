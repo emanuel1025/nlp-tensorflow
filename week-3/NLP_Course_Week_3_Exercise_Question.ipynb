{
  "nbformat": 4,
  "nbformat_minor": 0,
  "metadata": {
    "accelerator": "GPU",
    "colab": {
      "name": "NLP Course - Week 3 Exercise Question.ipynb",
      "provenance": [],
      "toc_visible": true
    },
    "kernelspec": {
      "display_name": "Python 3",
      "name": "python3"
    }
  },
  "cells": [
    {
      "cell_type": "code",
      "metadata": {
        "id": "zX4Kg8DUTKWO",
        "colab_type": "code",
        "colab": {}
      },
      "source": [
        "#@title Licensed under the Apache License, Version 2.0 (the \"License\");\n",
        "# you may not use this file except in compliance with the License.\n",
        "# You may obtain a copy of the License at\n",
        "#\n",
        "# https://www.apache.org/licenses/LICENSE-2.0\n",
        "#\n",
        "# Unless required by applicable law or agreed to in writing, software\n",
        "# distributed under the License is distributed on an \"AS IS\" BASIS,\n",
        "# WITHOUT WARRANTIES OR CONDITIONS OF ANY KIND, either express or implied.\n",
        "# See the License for the specific language governing permissions and\n",
        "# limitations under the License."
      ],
      "execution_count": 0,
      "outputs": []
    },
    {
      "cell_type": "code",
      "metadata": {
        "colab_type": "code",
        "id": "hmA6EzkQJ5jt",
        "colab": {}
      },
      "source": [
        "import json\n",
        "import tensorflow as tf\n",
        "import csv\n",
        "import random\n",
        "import numpy as np\n",
        "\n",
        "from tensorflow.keras.preprocessing.text import Tokenizer\n",
        "from tensorflow.keras.preprocessing.sequence import pad_sequences\n",
        "from tensorflow.keras.utils import to_categorical\n",
        "from tensorflow.keras import regularizers\n",
        "\n",
        "\n",
        "embedding_dim = 100\n",
        "max_length = 16\n",
        "trunc_type='post'\n",
        "padding_type='post'\n",
        "oov_tok = \"<OOV>\"\n",
        "training_size=160000\n",
        "test_portion=.1\n",
        "\n",
        "corpus = []\n"
      ],
      "execution_count": 0,
      "outputs": []
    },
    {
      "cell_type": "code",
      "metadata": {
        "colab_type": "code",
        "id": "bM0l_dORKqE0",
        "outputId": "66330f1b-0a8d-4f91-9708-13551cbed6d0",
        "colab": {
          "base_uri": "https://localhost:8080/",
          "height": 204
        }
      },
      "source": [
        "# Note that I cleaned the Stanford dataset to remove LATIN1 encoding to make it easier for Python CSV reader\n",
        "# You can do that yourself with:\n",
        "# iconv -f LATIN1 -t UTF8 training.1600000.processed.noemoticon.csv -o training_cleaned.csv\n",
        "# I then hosted it on my site to make it easier to use in this notebook\n",
        "\n",
        "!wget --no-check-certificate \\\n",
        "    https://storage.googleapis.com/laurencemoroney-blog.appspot.com/training_cleaned.csv \\\n",
        "    -O /tmp/training_cleaned.csv\n",
        "\n",
        "num_sentences = 0\n",
        "\n",
        "with open(\"/tmp/training_cleaned.csv\") as csvfile:\n",
        "    reader = csv.reader(csvfile, delimiter=',')\n",
        "    for row in reader:\n",
        "        list_item=[]\n",
        "        list_item.append(row[5])\n",
        "        this_label=row[0]\n",
        "        if this_label=='0':\n",
        "            list_item.append(0)\n",
        "        else:\n",
        "            list_item.append(1)\n",
        "        num_sentences = num_sentences + 1\n",
        "        corpus.append(list_item)\n"
      ],
      "execution_count": 3,
      "outputs": [
        {
          "output_type": "stream",
          "text": [
            "--2020-05-19 15:11:19--  https://storage.googleapis.com/laurencemoroney-blog.appspot.com/training_cleaned.csv\n",
            "Resolving storage.googleapis.com (storage.googleapis.com)... 172.217.214.128, 2607:f8b0:4001:c17::80\n",
            "Connecting to storage.googleapis.com (storage.googleapis.com)|172.217.214.128|:443... connected.\n",
            "HTTP request sent, awaiting response... 200 OK\n",
            "Length: 238942690 (228M) [application/octet-stream]\n",
            "Saving to: ‘/tmp/training_cleaned.csv’\n",
            "\n",
            "\r          /tmp/trai   0%[                    ]       0  --.-KB/s               \r         /tmp/train  10%[=>                  ]  24.42M   122MB/s               \r        /tmp/traini  38%[======>             ]  87.66M   219MB/s               \r       /tmp/trainin  56%[==========>         ] 127.77M   213MB/s               \r      /tmp/training  80%[===============>    ] 183.70M   230MB/s               \r/tmp/training_clean 100%[===================>] 227.87M   242MB/s    in 0.9s    \n",
            "\n",
            "2020-05-19 15:11:20 (242 MB/s) - ‘/tmp/training_cleaned.csv’ saved [238942690/238942690]\n",
            "\n"
          ],
          "name": "stdout"
        }
      ]
    },
    {
      "cell_type": "code",
      "metadata": {
        "colab_type": "code",
        "id": "3kxblBUjEUX-",
        "outputId": "1bcc3d39-3f7d-4dc8-c5a6-7ef9d57aab99",
        "colab": {
          "base_uri": "https://localhost:8080/",
          "height": 68
        }
      },
      "source": [
        "print(num_sentences)\n",
        "print(len(corpus))\n",
        "print(corpus[1])\n",
        "\n",
        "# Expected Output:\n",
        "# 1600000\n",
        "# 1600000\n",
        "# [\"is upset that he can't update his Facebook by texting it... and might cry as a result  School today also. Blah!\", 0]"
      ],
      "execution_count": 4,
      "outputs": [
        {
          "output_type": "stream",
          "text": [
            "1600000\n",
            "1600000\n",
            "[\"is upset that he can't update his Facebook by texting it... and might cry as a result  School today also. Blah!\", 0]\n"
          ],
          "name": "stdout"
        }
      ]
    },
    {
      "cell_type": "code",
      "metadata": {
        "colab_type": "code",
        "id": "ohOGz24lsNAD",
        "colab": {}
      },
      "source": [
        "sentences=[]\n",
        "labels=[]\n",
        "random.shuffle(corpus)\n",
        "for x in range(training_size):\n",
        "    sentences.append(corpus[x][0])\n",
        "    labels.append(corpus[x][1])\n",
        "\n",
        "\n",
        "tokenizer = Tokenizer()\n",
        "tokenizer.fit_on_texts(sentences)\n",
        "\n",
        "word_index = tokenizer.word_index\n",
        "vocab_size=len(word_index)\n",
        "\n",
        "sequences = tokenizer.texts_to_sequences(sentences)\n",
        "padded = pad_sequences(sequences, maxlen=max_length, padding=padding_type, truncating=trunc_type)\n",
        "\n",
        "split = int(test_portion * training_size)\n",
        "\n",
        "test_sequences = padded[0:split]\n",
        "training_sequences = padded[split:training_size]\n",
        "test_labels = labels[0:split]\n",
        "training_labels = labels[split:training_size]"
      ],
      "execution_count": 0,
      "outputs": []
    },
    {
      "cell_type": "code",
      "metadata": {
        "colab_type": "code",
        "id": "gIrtRem1En3N",
        "outputId": "65667ff0-8163-41f1-f790-d5c9f3190257",
        "colab": {
          "base_uri": "https://localhost:8080/",
          "height": 51
        }
      },
      "source": [
        "print(vocab_size)\n",
        "print(word_index['i'])\n",
        "# Expected Output\n",
        "# 138858\n",
        "# 1"
      ],
      "execution_count": 6,
      "outputs": [
        {
          "output_type": "stream",
          "text": [
            "138466\n",
            "1\n"
          ],
          "name": "stdout"
        }
      ]
    },
    {
      "cell_type": "code",
      "metadata": {
        "colab_type": "code",
        "id": "C1zdgJkusRh0",
        "outputId": "b0e954b1-cc30-4e28-fd1a-8d58c1acdbfc",
        "colab": {
          "base_uri": "https://localhost:8080/",
          "height": 204
        }
      },
      "source": [
        "# Note this is the 100 dimension version of GloVe from Stanford\n",
        "# I unzipped and hosted it on my site to make this notebook easier\n",
        "!wget --no-check-certificate \\\n",
        "    https://storage.googleapis.com/laurencemoroney-blog.appspot.com/glove.6B.100d.txt \\\n",
        "    -O /tmp/glove.6B.100d.txt\n",
        "embeddings_index = {};\n",
        "with open('/tmp/glove.6B.100d.txt') as f:\n",
        "    for line in f:\n",
        "        values = line.split();\n",
        "        word = values[0];\n",
        "        coefs = np.asarray(values[1:], dtype='float32');\n",
        "        embeddings_index[word] = coefs;\n",
        "\n",
        "embeddings_matrix = np.zeros((vocab_size+1, embedding_dim));\n",
        "for word, i in word_index.items():\n",
        "    embedding_vector = embeddings_index.get(word);\n",
        "    if embedding_vector is not None:\n",
        "        embeddings_matrix[i] = embedding_vector;"
      ],
      "execution_count": 7,
      "outputs": [
        {
          "output_type": "stream",
          "text": [
            "--2020-05-19 15:11:35--  https://storage.googleapis.com/laurencemoroney-blog.appspot.com/glove.6B.100d.txt\n",
            "Resolving storage.googleapis.com (storage.googleapis.com)... 173.194.196.128, 2607:f8b0:4001:c17::80\n",
            "Connecting to storage.googleapis.com (storage.googleapis.com)|173.194.196.128|:443... connected.\n",
            "HTTP request sent, awaiting response... 200 OK\n",
            "Length: 347116733 (331M) [text/plain]\n",
            "Saving to: ‘/tmp/glove.6B.100d.txt’\n",
            "\n",
            "/tmp/glove.6B.100d. 100%[===================>] 331.04M  56.9MB/s    in 6.1s    \n",
            "\n",
            "2020-05-19 15:11:41 (54.4 MB/s) - ‘/tmp/glove.6B.100d.txt’ saved [347116733/347116733]\n",
            "\n"
          ],
          "name": "stdout"
        }
      ]
    },
    {
      "cell_type": "code",
      "metadata": {
        "colab_type": "code",
        "id": "71NLk_lpFLNt",
        "outputId": "1ea422aa-8689-4a40-9545-0064b66724c2",
        "colab": {
          "base_uri": "https://localhost:8080/",
          "height": 34
        }
      },
      "source": [
        "print(len(embeddings_matrix))\n",
        "# Expected Output\n",
        "# 138859"
      ],
      "execution_count": 8,
      "outputs": [
        {
          "output_type": "stream",
          "text": [
            "138467\n"
          ],
          "name": "stdout"
        }
      ]
    },
    {
      "cell_type": "code",
      "metadata": {
        "colab_type": "code",
        "id": "iKKvbuEBOGFz",
        "colab": {
          "base_uri": "https://localhost:8080/",
          "height": 1000
        },
        "outputId": "e545b974-f215-4fe7-8ad0-5df29e1da544"
      },
      "source": [
        "model = tf.keras.Sequential([\n",
        "    tf.keras.layers.Embedding(vocab_size+1, embedding_dim, input_length=max_length, weights=[embeddings_matrix], trainable=False),\n",
        "    tf.keras.layers.Dropout(0.2),\n",
        "    tf.keras.layers.Conv1D(64, 5, activation='relu'),\n",
        "    tf.keras.layers.MaxPooling1D(pool_size=4),\n",
        "    tf.keras.layers.LSTM(64),\n",
        "    tf.keras.layers.Dense(1, activation='sigmoid')\n",
        "])\n",
        "model.compile(loss='binary_crossentropy',optimizer='adam',metrics=['accuracy'])\n",
        "model.summary()\n",
        "\n",
        "training_sequences = np.array(training_sequences)\n",
        "training_labels = np.array(training_labels)\n",
        "test_sequences = np.array(test_sequences)\n",
        "test_labels = np.array(test_labels)\n",
        "\n",
        "num_epochs = 50\n",
        "history = model.fit(training_sequences, training_labels, epochs=num_epochs, validation_data=(test_sequences, test_labels), verbose=2)\n",
        "\n",
        "print(\"Training Complete\")\n"
      ],
      "execution_count": 9,
      "outputs": [
        {
          "output_type": "stream",
          "text": [
            "Model: \"sequential\"\n",
            "_________________________________________________________________\n",
            "Layer (type)                 Output Shape              Param #   \n",
            "=================================================================\n",
            "embedding (Embedding)        (None, 16, 100)           13846700  \n",
            "_________________________________________________________________\n",
            "dropout (Dropout)            (None, 16, 100)           0         \n",
            "_________________________________________________________________\n",
            "conv1d (Conv1D)              (None, 12, 64)            32064     \n",
            "_________________________________________________________________\n",
            "max_pooling1d (MaxPooling1D) (None, 3, 64)             0         \n",
            "_________________________________________________________________\n",
            "lstm (LSTM)                  (None, 64)                33024     \n",
            "_________________________________________________________________\n",
            "dense (Dense)                (None, 1)                 65        \n",
            "=================================================================\n",
            "Total params: 13,911,853\n",
            "Trainable params: 65,153\n",
            "Non-trainable params: 13,846,700\n",
            "_________________________________________________________________\n",
            "Epoch 1/50\n",
            "4500/4500 - 15s - loss: 0.5692 - accuracy: 0.6954 - val_loss: 0.5198 - val_accuracy: 0.7418\n",
            "Epoch 2/50\n",
            "4500/4500 - 15s - loss: 0.5295 - accuracy: 0.7307 - val_loss: 0.5095 - val_accuracy: 0.7502\n",
            "Epoch 3/50\n",
            "4500/4500 - 15s - loss: 0.5111 - accuracy: 0.7433 - val_loss: 0.5036 - val_accuracy: 0.7509\n",
            "Epoch 4/50\n",
            "4500/4500 - 15s - loss: 0.5001 - accuracy: 0.7524 - val_loss: 0.5005 - val_accuracy: 0.7545\n",
            "Epoch 5/50\n",
            "4500/4500 - 16s - loss: 0.4910 - accuracy: 0.7574 - val_loss: 0.5044 - val_accuracy: 0.7547\n",
            "Epoch 6/50\n",
            "4500/4500 - 15s - loss: 0.4842 - accuracy: 0.7620 - val_loss: 0.4967 - val_accuracy: 0.7571\n",
            "Epoch 7/50\n",
            "4500/4500 - 15s - loss: 0.4794 - accuracy: 0.7649 - val_loss: 0.4962 - val_accuracy: 0.7561\n",
            "Epoch 8/50\n",
            "4500/4500 - 15s - loss: 0.4738 - accuracy: 0.7689 - val_loss: 0.4985 - val_accuracy: 0.7547\n",
            "Epoch 9/50\n",
            "4500/4500 - 15s - loss: 0.4686 - accuracy: 0.7721 - val_loss: 0.4985 - val_accuracy: 0.7565\n",
            "Epoch 10/50\n",
            "4500/4500 - 15s - loss: 0.4658 - accuracy: 0.7727 - val_loss: 0.4959 - val_accuracy: 0.7566\n",
            "Epoch 11/50\n",
            "4500/4500 - 15s - loss: 0.4621 - accuracy: 0.7756 - val_loss: 0.5008 - val_accuracy: 0.7531\n",
            "Epoch 12/50\n",
            "4500/4500 - 15s - loss: 0.4608 - accuracy: 0.7749 - val_loss: 0.4998 - val_accuracy: 0.7573\n",
            "Epoch 13/50\n",
            "4500/4500 - 15s - loss: 0.4570 - accuracy: 0.7795 - val_loss: 0.4996 - val_accuracy: 0.7571\n",
            "Epoch 14/50\n",
            "4500/4500 - 15s - loss: 0.4531 - accuracy: 0.7817 - val_loss: 0.5002 - val_accuracy: 0.7571\n",
            "Epoch 15/50\n",
            "4500/4500 - 15s - loss: 0.4516 - accuracy: 0.7817 - val_loss: 0.5037 - val_accuracy: 0.7556\n",
            "Epoch 16/50\n",
            "4500/4500 - 15s - loss: 0.4511 - accuracy: 0.7814 - val_loss: 0.5021 - val_accuracy: 0.7571\n",
            "Epoch 17/50\n",
            "4500/4500 - 15s - loss: 0.4478 - accuracy: 0.7837 - val_loss: 0.5067 - val_accuracy: 0.7568\n",
            "Epoch 18/50\n",
            "4500/4500 - 15s - loss: 0.4466 - accuracy: 0.7848 - val_loss: 0.5075 - val_accuracy: 0.7533\n",
            "Epoch 19/50\n",
            "4500/4500 - 15s - loss: 0.4462 - accuracy: 0.7855 - val_loss: 0.5067 - val_accuracy: 0.7508\n",
            "Epoch 20/50\n",
            "4500/4500 - 15s - loss: 0.4454 - accuracy: 0.7855 - val_loss: 0.5116 - val_accuracy: 0.7526\n",
            "Epoch 21/50\n",
            "4500/4500 - 15s - loss: 0.4438 - accuracy: 0.7866 - val_loss: 0.5066 - val_accuracy: 0.7559\n",
            "Epoch 22/50\n",
            "4500/4500 - 15s - loss: 0.4431 - accuracy: 0.7872 - val_loss: 0.5097 - val_accuracy: 0.7530\n",
            "Epoch 23/50\n",
            "4500/4500 - 15s - loss: 0.4395 - accuracy: 0.7885 - val_loss: 0.5104 - val_accuracy: 0.7547\n",
            "Epoch 24/50\n",
            "4500/4500 - 15s - loss: 0.4409 - accuracy: 0.7888 - val_loss: 0.5116 - val_accuracy: 0.7525\n",
            "Epoch 25/50\n",
            "4500/4500 - 15s - loss: 0.4393 - accuracy: 0.7902 - val_loss: 0.5106 - val_accuracy: 0.7546\n",
            "Epoch 26/50\n",
            "4500/4500 - 16s - loss: 0.4407 - accuracy: 0.7888 - val_loss: 0.5114 - val_accuracy: 0.7504\n",
            "Epoch 27/50\n",
            "4500/4500 - 15s - loss: 0.4376 - accuracy: 0.7894 - val_loss: 0.5154 - val_accuracy: 0.7507\n",
            "Epoch 28/50\n",
            "4500/4500 - 15s - loss: 0.4366 - accuracy: 0.7919 - val_loss: 0.5129 - val_accuracy: 0.7504\n",
            "Epoch 29/50\n",
            "4500/4500 - 15s - loss: 0.4381 - accuracy: 0.7900 - val_loss: 0.5155 - val_accuracy: 0.7497\n",
            "Epoch 30/50\n",
            "4500/4500 - 15s - loss: 0.4344 - accuracy: 0.7920 - val_loss: 0.5146 - val_accuracy: 0.7517\n",
            "Epoch 31/50\n",
            "4500/4500 - 15s - loss: 0.4349 - accuracy: 0.7927 - val_loss: 0.5134 - val_accuracy: 0.7515\n",
            "Epoch 32/50\n",
            "4500/4500 - 15s - loss: 0.4335 - accuracy: 0.7929 - val_loss: 0.5123 - val_accuracy: 0.7530\n",
            "Epoch 33/50\n",
            "4500/4500 - 15s - loss: 0.4324 - accuracy: 0.7923 - val_loss: 0.5119 - val_accuracy: 0.7536\n",
            "Epoch 34/50\n",
            "4500/4500 - 15s - loss: 0.4340 - accuracy: 0.7919 - val_loss: 0.5178 - val_accuracy: 0.7521\n",
            "Epoch 35/50\n",
            "4500/4500 - 15s - loss: 0.4330 - accuracy: 0.7942 - val_loss: 0.5122 - val_accuracy: 0.7559\n",
            "Epoch 36/50\n",
            "4500/4500 - 15s - loss: 0.4326 - accuracy: 0.7938 - val_loss: 0.5148 - val_accuracy: 0.7519\n",
            "Epoch 37/50\n",
            "4500/4500 - 15s - loss: 0.4325 - accuracy: 0.7936 - val_loss: 0.5135 - val_accuracy: 0.7517\n",
            "Epoch 38/50\n",
            "4500/4500 - 15s - loss: 0.4337 - accuracy: 0.7934 - val_loss: 0.5174 - val_accuracy: 0.7517\n",
            "Epoch 39/50\n",
            "4500/4500 - 15s - loss: 0.4317 - accuracy: 0.7941 - val_loss: 0.5159 - val_accuracy: 0.7502\n",
            "Epoch 40/50\n",
            "4500/4500 - 15s - loss: 0.4326 - accuracy: 0.7942 - val_loss: 0.5120 - val_accuracy: 0.7541\n",
            "Epoch 41/50\n",
            "4500/4500 - 15s - loss: 0.4291 - accuracy: 0.7968 - val_loss: 0.5197 - val_accuracy: 0.7507\n",
            "Epoch 42/50\n",
            "4500/4500 - 15s - loss: 0.4300 - accuracy: 0.7946 - val_loss: 0.5161 - val_accuracy: 0.7518\n",
            "Epoch 43/50\n",
            "4500/4500 - 15s - loss: 0.4308 - accuracy: 0.7941 - val_loss: 0.5161 - val_accuracy: 0.7498\n",
            "Epoch 44/50\n",
            "4500/4500 - 15s - loss: 0.4289 - accuracy: 0.7956 - val_loss: 0.5168 - val_accuracy: 0.7539\n",
            "Epoch 45/50\n",
            "4500/4500 - 15s - loss: 0.4283 - accuracy: 0.7963 - val_loss: 0.5170 - val_accuracy: 0.7489\n",
            "Epoch 46/50\n",
            "4500/4500 - 15s - loss: 0.4287 - accuracy: 0.7962 - val_loss: 0.5214 - val_accuracy: 0.7482\n",
            "Epoch 47/50\n",
            "4500/4500 - 15s - loss: 0.4272 - accuracy: 0.7970 - val_loss: 0.5227 - val_accuracy: 0.7473\n",
            "Epoch 48/50\n",
            "4500/4500 - 15s - loss: 0.4278 - accuracy: 0.7966 - val_loss: 0.5214 - val_accuracy: 0.7499\n",
            "Epoch 49/50\n",
            "4500/4500 - 15s - loss: 0.4282 - accuracy: 0.7965 - val_loss: 0.5199 - val_accuracy: 0.7496\n",
            "Epoch 50/50\n",
            "4500/4500 - 15s - loss: 0.4280 - accuracy: 0.7963 - val_loss: 0.5162 - val_accuracy: 0.7498\n",
            "Training Complete\n"
          ],
          "name": "stdout"
        }
      ]
    },
    {
      "cell_type": "code",
      "metadata": {
        "colab_type": "code",
        "id": "qxju4ItJKO8F",
        "colab": {
          "base_uri": "https://localhost:8080/",
          "height": 607
        },
        "outputId": "21012a50-35aa-4193-b5e9-b46c1c0b68bb"
      },
      "source": [
        "import matplotlib.image  as mpimg\n",
        "import matplotlib.pyplot as plt\n",
        "\n",
        "#-----------------------------------------------------------\n",
        "# Retrieve a list of list results on training and test data\n",
        "# sets for each training epoch\n",
        "#-----------------------------------------------------------\n",
        "acc=history.history['accuracy']\n",
        "val_acc=history.history['val_accuracy']\n",
        "loss=history.history['loss']\n",
        "val_loss=history.history['val_loss']\n",
        "\n",
        "epochs=range(len(acc)) # Get number of epochs\n",
        "\n",
        "#------------------------------------------------\n",
        "# Plot training and validation accuracy per epoch\n",
        "#------------------------------------------------\n",
        "plt.plot(epochs, acc, 'r')\n",
        "plt.plot(epochs, val_acc, 'b')\n",
        "plt.title('Training and validation accuracy')\n",
        "plt.xlabel(\"Epochs\")\n",
        "plt.ylabel(\"Accuracy\")\n",
        "plt.legend([\"Accuracy\", \"Validation Accuracy\"])\n",
        "\n",
        "plt.figure()\n",
        "\n",
        "#------------------------------------------------\n",
        "# Plot training and validation loss per epoch\n",
        "#------------------------------------------------\n",
        "plt.plot(epochs, loss, 'r')\n",
        "plt.plot(epochs, val_loss, 'b')\n",
        "plt.title('Training and validation loss')\n",
        "plt.xlabel(\"Epochs\")\n",
        "plt.ylabel(\"Loss\")\n",
        "plt.legend([\"Loss\", \"Validation Loss\"])\n",
        "\n",
        "plt.figure()\n",
        "\n",
        "\n",
        "# Expected Output\n",
        "# A chart where the validation loss does not increase sharply!"
      ],
      "execution_count": 10,
      "outputs": [
        {
          "output_type": "execute_result",
          "data": {
            "text/plain": [
              "<Figure size 432x288 with 0 Axes>"
            ]
          },
          "metadata": {
            "tags": []
          },
          "execution_count": 10
        },
        {
          "output_type": "display_data",
          "data": {
            "image/png": "[encoded data removed]",
            "text/plain": [
              "<Figure size 432x288 with 1 Axes>"
            ]
          },
          "metadata": {
            "tags": [],
            "needs_background": "light"
          }
        },
        {
          "output_type": "display_data",
          "data": {
            "image/png": "[encoded data removed]",
            "text/plain": [
              "<Figure size 432x288 with 1 Axes>"
            ]
          },
          "metadata": {
            "tags": [],
            "needs_background": "light"
          }
        },
        {
          "output_type": "display_data",
          "data": {
            "text/plain": [
              "<Figure size 432x288 with 0 Axes>"
            ]
          },
          "metadata": {
            "tags": []
          }
        }
      ]
    }
  ]
}